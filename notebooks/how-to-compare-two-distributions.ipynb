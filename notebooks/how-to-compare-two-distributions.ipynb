{
 "cells": [
  {
   "cell_type": "markdown",
   "metadata": {},
   "source": [
    "# How to compare two distributions\n",
    "\n",
    "date: 2022-05-05\n",
    "tags: probability, python, scipy\n",
    "description: A comparison of common methods to compare two probability distributions in Python\n",
    "draft: false\n",
    "<!--eofm-->"
   ]
  },
  {
   "cell_type": "markdown",
   "metadata": {},
   "source": [
    "The world is full of distributions - people's height, incomes, exam results, average temperatures, heights of trees, sizes of microplastic particles in the environment. It stands to reason that there will be times when we need to compare these distributions to see how similar (or different) they are. For example, were summer temperatures similar this year to last year? Do two groups of people who buy different products make similar incomes? Do modelled size distributions of microplastics match what we expect from observations?\n",
    "\n",
    "There are a whole host of statistical methods you can use to calculate this *similarity*, and the aim of this article is to show you how a few of the most common can be easily coded in Python. In doing so, we will start to explore some of the differences between the methods and why you might pick one over the other."
   ]
  },
  {
   "cell_type": "markdown",
   "metadata": {},
   "source": [
    "## The problem\n",
    "\n"
   ]
  },
  {
   "cell_type": "markdown",
   "metadata": {},
   "source": [
    "Let's start with three arbitrary normal distributions to demonstrate this. We will use SciPy's `stats.norm.rvs` method to generate these distributions by randomly sampling based on specified mean and variance values - basically, this lets us mimic \"real\" data that follows the specified distributions."
   ]
  },
  {
   "cell_type": "code",
   "execution_count": 4,
   "metadata": {},
   "outputs": [
    {
     "data": {
      "image/png": "[encoded data removed]",
      "text/plain": [
       "<Figure size 432x288 with 1 Axes>"
      ]
     },
     "metadata": {
      "needs_background": "light"
     },
     "output_type": "display_data"
    }
   ],
   "source": [
    "import numpy as np\n",
    "from scipy import stats\n",
    "import matplotlib.pyplot as plt\n",
    "\n",
    "# Mean and variance of the distributions and sampling size\n",
    "a_mean, a_var = 0.0, 1.0\n",
    "b_mean, b_var = 0.42, 1.0\n",
    "c_mean, c_var = 1.2, 2\n",
    "size = 1000\n",
    "\n",
    "# Create the distributions\n",
    "data_a = stats.norm.rvs(a_mean, a_var, size)\n",
    "data_b = stats.norm.rvs(b_mean, b_var, size)\n",
    "data_c = stats.norm.rvs(c_mean, c_var, size)\n",
    "\n",
    "# Plot the distributions as histograms to see what they\n",
    "# look like compared to each other\n",
    "plt.hist(data_a, bins=20, density=True, alpha=0.4, label='A')\n",
    "plt.hist(data_b, bins=20, density=True, alpha=0.4, label='B')\n",
    "plt.hist(data_c, bins=20, density=True, alpha=0.4, label='C')\n",
    "plt.legend()\n",
    "plt.yticks([])\n",
    "plt.show()"
   ]
  },
  {
   "cell_type": "markdown",
   "metadata": {},
   "source": [
    "## Method 0: Comparing the means\n",
    "\n",
    "Perhaps it is stating the obvious, but if you expect all of the other [moments of your distributions](https://en.wikipedia.org/wiki/Moment_(mathematics)) (variance, skew and kurotis) to be similar, then comparing the means is a simple but effective way to see how different they are.\n",
    "\n",
    "If we take $A$ as the reference distribution, to which we want to compare how similar $B$ and $C$ are, then we can simply calculate the difference between the means of $B$ or $C$ and $A$:"
   ]
  },
  {
   "cell_type": "code",
   "execution_count": 5,
   "metadata": {},
   "outputs": [
    {
     "data": {
      "image/png": "[encoded data removed]",
      "text/plain": [
       "<Figure size 432x288 with 1 Axes>"
      ]
     },
     "metadata": {
      "needs_background": "light"
     },
     "output_type": "display_data"
    }
   ],
   "source": [
    "plt.bar(['A to B', 'A to C'],\n",
    "        [data_b.mean() - data_a.mean(), data_c.mean() - data_a.mean()])\n",
    "plt.show()"
   ]
  },
  {
   "cell_type": "markdown",
   "metadata": {},
   "source": [
    "The rather obvious conclusion here is that $B$ is *more similar* to $A$ than $C$. But, you will have noticed that the variance (width) of $C$ is significantly different $A$ and $B$, and perhaps this naïve method is not so sensible for our distributions.\n",
    "\n",
    "## Method 1: Kolmogorov-Smirnov distance\n",
    "\n",
    "Apart from comparing means, calculating the K-S distance $D_\\text{KS}$ between distributions is perhaps the most common way of comparing distributions. $D_\\text{KS}$ is zero when distributions are identical, and 1 when they are very different. In other words, the bigger $D_\\text{KS}$, the more different the distributions.\n",
    "\n",
    "The concept behind the K-S distance is simple to understand: When plotted as *empirical* cumulative probability distributions, it represents the biggest difference in probability between the two distributions. Calculating $D_\\text{KS}$ in Python is made straightforward by SciPy, which provides a [`scipy.stats.kstest`](https://docs.scipy.org/doc/scipy/reference/generated/scipy.stats.kstest.html) function that does the hard work. Let's calculate $D_\\text{KS}$ between $A$ and $C$: \n"
   ]
  },
  {
   "cell_type": "code",
   "execution_count": 8,
   "metadata": {},
   "outputs": [
    {
     "data": {
      "image/png": "[encoded data removed]",
      "text/plain": [
       "<Figure size 432x288 with 1 Axes>"
      ]
     },
     "metadata": {
      "needs_background": "light"
     },
     "output_type": "display_data"
    }
   ],
   "source": [
    "# Calculuate the K-S distance between A and B, and A and C\n",
    "ks_a_b = stats.kstest(data_a, data_b)\n",
    "ks_a_c = stats.kstest(data_a, data_c)\n",
    "\n",
    "# Plot this to compare the distributions\n",
    "plt.bar(['A to B', 'A to C'],\n",
    "        [ks_a_b.statistic, ks_a_c.statistic])\n",
    "plt.show()"
   ]
  },
  {
   "cell_type": "markdown",
   "metadata": {},
   "source": [
    "{{< notice note >}}\n",
    "Technically, we are performing a *two-sample* K-S test here, which is used to compare the underlying distributions of two independent samples. In contrast, the one-sample K-S test is used to compare the underlying distribution of a sample against a given distribution (such as the normal distribution). Internally, SciPy picks up that we have provided two independent samples and calls a separate `scipy.stats.ks_2samp` method. We could have called this method directly.\n",
    "{{< /notice >}}"
   ]
  },
  {
   "cell_type": "markdown",
   "metadata": {},
   "source": [
    "As we said, the K-S distance represents the maximum distance between the empirical cumulative distribution functions (ECDFs) of our data. We can generate and plot these ECDFs to make it easy to visualise what the K-S test is doing in practice. Let's do this to compare A and C:"
   ]
  },
  {
   "cell_type": "code",
   "execution_count": 41,
   "metadata": {},
   "outputs": [
    {
     "data": {
      "image/png": "[encoded data removed]",
      "text/plain": [
       "<Figure size 432x288 with 1 Axes>"
      ]
     },
     "metadata": {
      "needs_background": "light"
     },
     "output_type": "display_data"
    }
   ],
   "source": [
    "# We can plot ECDFs by sorting the data and plotting it on\n",
    "# the x-axis against an equally spaced array from 0 to 1 on\n",
    "# the y-axis, we can be generated by NumPy's linspace or\n",
    "# arange functions\n",
    "x_a = np.sort(data_a)\n",
    "x_c = np.sort(data_c)\n",
    "ecdf_a = np.linspace(0, 1, len(x_a), endpoint=False)\n",
    "ecdf_c = np.linspace(0, 1, len(x_c), endpoint=False)\n",
    "\n",
    "# Plot these ECDFs\n",
    "plt.plot(x_a, ecdf_a)\n",
    "plt.plot(x_c, ecdf_c)\n",
    "\n",
    "# We need to figure out at which x value the biggest distance\n",
    "# between the ECDFs is, in order to point this out on the graph.\n",
    "# To do this, we first need to interpolate one of the ECDFs\n",
    "ecdf_a_interp = np.interp(x_a, x_c, ecdf_a)\n",
    "ix = np.argmax(np.abs(ecdf_a_interp - ecdf_c))\n",
    "\n",
    "# Plot this as an arrow indicating the distance between the curves\n",
    "plt.annotate('',\n",
    "             xy=(x_a[ix], ecdf_a[ix]),\n",
    "             xytext=(x_a[ix], ecdf_a[ix] - ks_a_c.statistic),\n",
    "             arrowprops={'arrowstyle': '<->, head_width=0.5, head_length=0.6',\n",
    "                         'linestyle': 'dashed', 'color': 'r', 'linewidth': 2})\n",
    "plt.xlim([-4,5])\n",
    "plt.show()"
   ]
  }
 ],
 "metadata": {
  "interpreter": {
   "hash": "0f8ff94c1b66469a2fbbe9aab779b2004a128ca48c21a4008c6204fde8e63597"
  },
  "kernelspec": {
   "display_name": "Python 3.10.4 ('hugo')",
   "language": "python",
   "name": "python3"
  },
  "language_info": {
   "codemirror_mode": {
    "name": "ipython",
    "version": 3
   },
   "file_extension": ".py",
   "mimetype": "text/x-python",
   "name": "python",
   "nbconvert_exporter": "python",
   "pygments_lexer": "ipython3",
   "version": "3.10.4"
  },
  "orig_nbformat": 4
 },
 "nbformat": 4,
 "nbformat_minor": 2
}
